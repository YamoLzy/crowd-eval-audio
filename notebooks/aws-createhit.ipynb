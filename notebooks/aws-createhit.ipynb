{
 "cells": [
  {
   "cell_type": "code",
   "execution_count": 19,
   "metadata": {},
   "outputs": [],
   "source": [
    "import boto3\n",
    "import json"
   ]
  },
  {
   "cell_type": "code",
   "execution_count": 20,
   "metadata": {},
   "outputs": [],
   "source": [
    "def get_config(filepath='secrets.json'):\n",
    "    config = {}\n",
    "    with open(filepath, 'r') as f:\n",
    "        config = json.load(f)\n",
    "    return config"
   ]
  },
  {
   "cell_type": "code",
   "execution_count": 21,
   "metadata": {},
   "outputs": [
    {
     "name": "stdout",
     "output_type": "stream",
     "text": [
      "10000.00\n"
     ]
    }
   ],
   "source": [
    "region_name = 'us-east-1'\n",
    "config = get_config()\n",
    "aws_access_key_id = config['aws_access_key_id']\n",
    "aws_secret_access_key = config['aws_secret_access_key']\n",
    "\n",
    "endpoint_url = 'https://mturk-requester-sandbox.us-east-1.amazonaws.com'\n",
    "\n",
    "# Uncomment this line to use in production\n",
    "# endpoint_url = 'https://mturk-requester.us-east-1.amazonaws.com'\n",
    "\n",
    "client = boto3.client(\n",
    "    'mturk',\n",
    "    endpoint_url=endpoint_url,\n",
    "    region_name=region_name,\n",
    "    aws_access_key_id=aws_access_key_id,\n",
    "    aws_secret_access_key=aws_secret_access_key,\n",
    ")\n",
    "\n",
    "# This will return $10,000.00 in the MTurk Developer Sandbox\n",
    "print(client.get_account_balance()['AvailableBalance'])"
   ]
  },
  {
   "cell_type": "code",
   "execution_count": null,
   "metadata": {},
   "outputs": [],
   "source": []
  },
  {
   "cell_type": "markdown",
   "metadata": {},
   "source": [
    "# Qualifier"
   ]
  },
  {
   "cell_type": "code",
   "execution_count": 41,
   "metadata": {},
   "outputs": [],
   "source": [
    "questions = open('screening/qualifier-question.xml', mode='r').read()\n",
    "answers = open('screening/qualifier-answer-key.xml', mode='r').read()"
   ]
  },
  {
   "cell_type": "code",
   "execution_count": 42,
   "metadata": {},
   "outputs": [
    {
     "name": "stdout",
     "output_type": "stream",
     "text": [
      "3B9TX86P8U75IWXYDPCU6CTT9T9RL1\n"
     ]
    }
   ],
   "source": [
    "qual_response = client.create_qualification_type(\n",
    "                        Name='Hearing Screening Qualifier Test - 2',\n",
    "                        Keywords='test, qualification, hearing test, listening, screening',\n",
    "                        Description='This is a brief hearing screening/test',\n",
    "                        QualificationTypeStatus='Active',\n",
    "                        RetryDelayInSeconds=60*60, #After 1 hour\n",
    "                        Test=questions,\n",
    "                        AnswerKey=answers,\n",
    "                        TestDurationInSeconds=300)\n",
    "\n",
    "print(qual_response['QualificationType']['QualificationTypeId'])"
   ]
  },
  {
   "cell_type": "markdown",
   "metadata": {},
   "source": [
    "URL - https://workersandbox.mturk.com/qualifications/36AMEIB6EYUNZ3H0YMXJK1MLZUMVN0\n",
    "\n",
    "  \n",
    "URL w/ dropdowns - https://workersandbox.mturk.com/qualifications/3B9TX86P8U75IWXYDPCU6CTT9T9RL1"
   ]
  },
  {
   "cell_type": "code",
   "execution_count": null,
   "metadata": {},
   "outputs": [],
   "source": []
  },
  {
   "cell_type": "code",
   "execution_count": 32,
   "metadata": {},
   "outputs": [],
   "source": [
    "#   \"Title\": String,\n",
    "#   \"Description\": String,\n",
    "#   \"Reward\": String,\n",
    "#   \"AssignmentDurationInSeconds\": Integer,\n",
    "#   \"Keywords\": String,\n",
    "#   \"AutoApprovalDelayInSeconds\": Integer,\n",
    "#   \"QualificationRequirements\": QualificationRequirementList\n",
    "\n",
    "num_approved_hits_atleast_1000={\n",
    "    'QualificationTypeId': '00000000000000000040',\n",
    "    'Comparator':'GreaterThanOrEqualTo',\n",
    "    'IntegerValues':[1000]\n",
    "}\n",
    "\n",
    "percent_total_approved_hits={\n",
    "    'QualificationTypeId': '000000000000000000L0',\n",
    "    'Comparator':'GreaterThanOrEqualTo',\n",
    "    'IntegerValues':[97]\n",
    "}\n",
    "\n",
    "hearing_screening_qualifier={\n",
    "    'QualificationTypeId': '36AMEIB6EYUNZ3H0YMXJK1MLZUMVN0',\n",
    "    'Comparator':'EqualTo',\n",
    "    'IntegerValues':[100]\n",
    "}\n",
    "\n",
    "new_hit_type = client.create_hit_type(\n",
    "    Title='Audio Perceptual Ordering Task - with screening',\n",
    "    Description='Audio Perceptual Ordering Task - with screening',\n",
    "    Reward='1.17',\n",
    "    AssignmentDurationInSeconds=15*60, #15 mins\n",
    "    Keywords='audio, listening test, sound evaluation',\n",
    "    AutoApprovalDelayInSeconds=7*24*60*60, # 7 days\n",
    "#     QualificationRequirements=[num_approved_hits_atleast_1000,percent_total_approved_hits,hearing_screening_qualifier]\n",
    "    QualificationRequirements=[hearing_screening_qualifier]\n",
    ")"
   ]
  },
  {
   "cell_type": "code",
   "execution_count": 33,
   "metadata": {},
   "outputs": [
    {
     "data": {
      "text/plain": [
       "{'HITTypeId': '3J684U0BLUYQAHXUO3902LI651TGGZ',\n",
       " 'ResponseMetadata': {'RequestId': 'a8c367c9-49c4-4973-b273-0217eb6affe4',\n",
       "  'HTTPStatusCode': 200,\n",
       "  'HTTPHeaders': {'x-amzn-requestid': 'a8c367c9-49c4-4973-b273-0217eb6affe4',\n",
       "   'content-type': 'application/x-amz-json-1.1',\n",
       "   'content-length': '46',\n",
       "   'date': 'Thu, 10 Mar 2022 07:49:47 GMT'},\n",
       "  'RetryAttempts': 0}}"
      ]
     },
     "execution_count": 33,
     "metadata": {},
     "output_type": "execute_result"
    }
   ],
   "source": [
    "new_hit_type"
   ]
  },
  {
   "cell_type": "code",
   "execution_count": 34,
   "metadata": {},
   "outputs": [],
   "source": [
    "# From Stackoverflow - https://stackoverflow.com/a/56397390 \n",
    "class ExternalQuestion:\n",
    "    \"\"\"\n",
    "    An object for constructing an External Question.\n",
    "    \"\"\"\n",
    "    schema_url = \"http://mechanicalturk.amazonaws.com/AWSMechanicalTurkDataSchemas/2006-07-14/ExternalQuestion.xsd\"\n",
    "    template = '<ExternalQuestion xmlns=\"%(schema_url)s\"><ExternalURL>%%(external_url)s</ExternalURL><FrameHeight>%%(frame_height)s</FrameHeight></ExternalQuestion>' % vars()\n",
    "\n",
    "    def __init__(self, external_url, frame_height):\n",
    "        self.external_url = external_url\n",
    "        self.frame_height = frame_height\n",
    "\n",
    "    def get_as_params(self, label='ExternalQuestion'):\n",
    "        return {label: self.get_as_xml()}\n",
    "\n",
    "    def get_as_xml(self):\n",
    "        return self.template % vars(self)"
   ]
  },
  {
   "cell_type": "code",
   "execution_count": 35,
   "metadata": {},
   "outputs": [
    {
     "name": "stdout",
     "output_type": "stream",
     "text": [
      "HITID = 3NC6WP7WKPSYEY4BOLBJQBXSHT0WWK\n"
     ]
    }
   ],
   "source": [
    "question = ExternalQuestion(\"https://d3uv9uvrvmzlps.cloudfront.net/exp2-2/index-exp2-2-2.html\", 0)\n",
    "question.get_as_xml()\n",
    "\n",
    "#   \"HITTypeId\": String,\n",
    "#   \"Question\": String,\n",
    "#   \"HITLayoutId\": String,\n",
    "#   \"HITLayoutParameters\": HITLayoutParameterList,\n",
    "#   \"LifetimeInSeconds\": Integer,\n",
    "#   \"MaxAssignments\": Integer,\n",
    "#   \"AssignmentReviewPolicy\": ReviewPolicy,\n",
    "#   \"HITReviewPolicy\": ReviewPolicy,\n",
    "#   \"RequesterAnnotation\": String,\n",
    "#   \"UniqueRequestToken\": String\n",
    "\n",
    "new_hit = client.create_hit_with_hit_type(\n",
    "    HITTypeId=\"3J684U0BLUYQAHXUO3902LI651TGGZ\",\n",
    "    Question=question.get_as_xml(),\n",
    "#     LifetimeInSeconds=10*24*60*60, #10 days\n",
    "    LifetimeInSeconds=1*24*60*60, #1 days\n",
    "    MaxAssignments=10\n",
    ")\n",
    "print(\"HITID = \" + new_hit['HIT']['HITId'])"
   ]
  },
  {
   "cell_type": "code",
   "execution_count": null,
   "metadata": {},
   "outputs": [],
   "source": []
  },
  {
   "cell_type": "markdown",
   "metadata": {},
   "source": [
    "### List qualification request (both successful and otherwise). Note: Quals created via API dont show correct approved numbers on AMT Admin web page. Use this API for exact numbers. "
   ]
  },
  {
   "cell_type": "code",
   "execution_count": 45,
   "metadata": {},
   "outputs": [],
   "source": [
    "list_qual_requests = client.list_workers_with_qualification_type(QualificationTypeId='3B9TX86P8U75IWXYDPCU6CTT9T9RL1')\n",
    "list_qual_requests"
   ]
  },
  {
   "cell_type": "code",
   "execution_count": null,
   "metadata": {},
   "outputs": [],
   "source": []
  }
 ],
 "metadata": {
  "interpreter": {
   "hash": "b560abb4cfbc34f9cb6b5da792bc79b4def0febb8496de1f18c8d7b3166e69d0"
  },
  "kernelspec": {
   "display_name": "Python 3",
   "language": "python",
   "name": "python3"
  },
  "language_info": {
   "codemirror_mode": {
    "name": "ipython",
    "version": 3
   },
   "file_extension": ".py",
   "mimetype": "text/x-python",
   "name": "python",
   "nbconvert_exporter": "python",
   "pygments_lexer": "ipython3",
   "version": "3.8.8"
  }
 },
 "nbformat": 4,
 "nbformat_minor": 2
}
