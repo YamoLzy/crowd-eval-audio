{
 "cells": [
  {
   "cell_type": "code",
   "execution_count": 26,
   "metadata": {},
   "outputs": [],
   "source": [
    "import boto3\n",
    "import json"
   ]
  },
  {
   "cell_type": "code",
   "execution_count": 27,
   "metadata": {},
   "outputs": [],
   "source": [
    "def get_config(filepath='secrets.json'):\n",
    "    config = {}\n",
    "    with open(filepath, 'r') as f:\n",
    "        config = json.load(f)\n",
    "    return config"
   ]
  },
  {
   "cell_type": "code",
   "execution_count": 32,
   "metadata": {},
   "outputs": [
    {
     "name": "stdout",
     "output_type": "stream",
     "text": [
      "10000.00\n"
     ]
    }
   ],
   "source": [
    "region_name = 'us-east-1'\n",
    "config = get_config()\n",
    "aws_access_key_id = config['aws_access_key_id']\n",
    "aws_secret_access_key = config['aws_secret_access_key']\n",
    "\n",
    "endpoint_url = 'https://mturk-requester-sandbox.us-east-1.amazonaws.com'\n",
    "\n",
    "# Uncomment this line to use in production\n",
    "# endpoint_url = 'https://mturk-requester.us-east-1.amazonaws.com'\n",
    "\n",
    "client = boto3.client(\n",
    "    'mturk',\n",
    "    endpoint_url=endpoint_url,\n",
    "    region_name=region_name,\n",
    "    aws_access_key_id=aws_access_key_id,\n",
    "    aws_secret_access_key=aws_secret_access_key,\n",
    ")\n",
    "\n",
    "# This will return $10,000.00 in the MTurk Developer Sandbox\n",
    "print(client.get_account_balance()['AvailableBalance'])"
   ]
  },
  {
   "cell_type": "code",
   "execution_count": 19,
   "metadata": {},
   "outputs": [],
   "source": [
    "# From Stackoverflow - https://stackoverflow.com/a/56397390 \n",
    "class ExternalQuestion:\n",
    "    \"\"\"\n",
    "    An object for constructing an External Question.\n",
    "    \"\"\"\n",
    "    schema_url = \"http://mechanicalturk.amazonaws.com/AWSMechanicalTurkDataSchemas/2006-07-14/ExternalQuestion.xsd\"\n",
    "    template = '<ExternalQuestion xmlns=\"%(schema_url)s\"><ExternalURL>%%(external_url)s</ExternalURL><FrameHeight>%%(frame_height)s</FrameHeight></ExternalQuestion>' % vars()\n",
    "\n",
    "    def __init__(self, external_url, frame_height):\n",
    "        self.external_url = external_url\n",
    "        self.frame_height = frame_height\n",
    "\n",
    "    def get_as_params(self, label='ExternalQuestion'):\n",
    "        return {label: self.get_as_xml()}\n",
    "\n",
    "    def get_as_xml(self):\n",
    "        return self.template % vars(self)"
   ]
  },
  {
   "cell_type": "code",
   "execution_count": 20,
   "metadata": {},
   "outputs": [
    {
     "name": "stdout",
     "output_type": "stream",
     "text": [
      "HITID = 3X2YVV51Q2C5DXO8RXMYXL7YL7MW1Y\n"
     ]
    }
   ],
   "source": [
    "question = ExternalQuestion(\"https://d3uv9uvrvmzlps.cloudfront.net/exp2/index.html\", 0)\n",
    "question.get_as_xml()\n",
    "new_hit = client.create_hit(\n",
    "    Title='Audio Perceptual Ordering Task - External',\n",
    "    Description='Audio Perceptual Ordering Task - External',\n",
    "    Keywords='audio',\n",
    "    Reward='0.01',\n",
    "    MaxAssignments=1,\n",
    "    LifetimeInSeconds=172800,\n",
    "    AssignmentDurationInSeconds=600,\n",
    "    AutoApprovalDelayInSeconds=172800,\n",
    "    Question=question.get_as_xml()\n",
    ")\n",
    "print(\"HITID = \" + new_hit['HIT']['HITId'])"
   ]
  },
  {
   "cell_type": "code",
   "execution_count": 21,
   "metadata": {},
   "outputs": [
    {
     "data": {
      "text/plain": [
       "{'HIT': {'HITId': '3X2YVV51Q2C5DXO8RXMYXL7YL7MW1Y',\n",
       "  'HITTypeId': '33FNMBLT2A5DNXTPF0IW84YN8FR04P',\n",
       "  'HITGroupId': '3ME56J5KI8HSBLHBYH8OQ6EUOVO6C6',\n",
       "  'CreationTime': datetime.datetime(2022, 2, 24, 10, 33, 38, tzinfo=tzlocal()),\n",
       "  'Title': 'Audio Perceptual Ordering Task - External',\n",
       "  'Description': 'Audio Perceptual Ordering Task - External',\n",
       "  'Question': '<ExternalQuestion xmlns=\"http://mechanicalturk.amazonaws.com/AWSMechanicalTurkDataSchemas/2006-07-14/ExternalQuestion.xsd\"><ExternalURL>https://d3uv9uvrvmzlps.cloudfront.net/exp2/index.html</ExternalURL><FrameHeight>0</FrameHeight></ExternalQuestion>',\n",
       "  'Keywords': 'audio',\n",
       "  'HITStatus': 'Assignable',\n",
       "  'MaxAssignments': 1,\n",
       "  'Reward': '0.01',\n",
       "  'AutoApprovalDelayInSeconds': 172800,\n",
       "  'Expiration': datetime.datetime(2022, 2, 26, 10, 33, 38, tzinfo=tzlocal()),\n",
       "  'AssignmentDurationInSeconds': 600,\n",
       "  'QualificationRequirements': [],\n",
       "  'HITReviewStatus': 'NotReviewed',\n",
       "  'NumberOfAssignmentsPending': 0,\n",
       "  'NumberOfAssignmentsAvailable': 1,\n",
       "  'NumberOfAssignmentsCompleted': 0},\n",
       " 'ResponseMetadata': {'RequestId': '8cd29496-8cac-4611-a6ec-9109177a951e',\n",
       "  'HTTPStatusCode': 200,\n",
       "  'HTTPHeaders': {'x-amzn-requestid': '8cd29496-8cac-4611-a6ec-9109177a951e',\n",
       "   'content-type': 'application/x-amz-json-1.1',\n",
       "   'content-length': '882',\n",
       "   'date': 'Thu, 24 Feb 2022 02:33:38 GMT'},\n",
       "  'RetryAttempts': 0}}"
      ]
     },
     "execution_count": 21,
     "metadata": {},
     "output_type": "execute_result"
    }
   ],
   "source": [
    "new_hit"
   ]
  },
  {
   "cell_type": "code",
   "execution_count": null,
   "metadata": {},
   "outputs": [],
   "source": []
  }
 ],
 "metadata": {
  "interpreter": {
   "hash": "b560abb4cfbc34f9cb6b5da792bc79b4def0febb8496de1f18c8d7b3166e69d0"
  },
  "kernelspec": {
   "display_name": "Python 3.8.8 64-bit ('pDL': conda)",
   "language": "python",
   "name": "python3"
  },
  "language_info": {
   "codemirror_mode": {
    "name": "ipython",
    "version": 3
   },
   "file_extension": ".py",
   "mimetype": "text/x-python",
   "name": "python",
   "nbconvert_exporter": "python",
   "pygments_lexer": "ipython3",
   "version": "3.8.8"
  },
  "orig_nbformat": 4
 },
 "nbformat": 4,
 "nbformat_minor": 2
}
