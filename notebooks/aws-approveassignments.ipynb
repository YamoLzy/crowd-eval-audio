{
 "cells": [
  {
   "cell_type": "code",
   "execution_count": 1,
   "metadata": {},
   "outputs": [],
   "source": [
    "import boto3\n",
    "import json\n",
    "import numpy as np\n",
    "import xmltodict\n",
    "import pandas as pd"
   ]
  },
  {
   "cell_type": "code",
   "execution_count": 2,
   "metadata": {},
   "outputs": [],
   "source": [
    "def get_config(filepath='secrets.json'):\n",
    "    config = {}\n",
    "    with open(filepath, 'r') as f:\n",
    "        config = json.load(f)\n",
    "    return config"
   ]
  },
  {
   "cell_type": "code",
   "execution_count": 3,
   "metadata": {},
   "outputs": [
    {
     "name": "stdout",
     "output_type": "stream",
     "text": [
      "10000.00\n"
     ]
    }
   ],
   "source": [
    "region_name = 'us-east-1'\n",
    "config = get_config()\n",
    "aws_access_key_id = config['aws_access_key_id']\n",
    "aws_secret_access_key = config['aws_secret_access_key']\n",
    "\n",
    "endpoint_url = 'https://mturk-requester-sandbox.us-east-1.amazonaws.com'\n",
    "\n",
    "# Uncomment this line to use in production\n",
    "# endpoint_url = 'https://mturk-requester.us-east-1.amazonaws.com'\n",
    "\n",
    "client = boto3.client(\n",
    "    'mturk',\n",
    "    endpoint_url=endpoint_url,\n",
    "    region_name=region_name,\n",
    "    aws_access_key_id=aws_access_key_id,\n",
    "    aws_secret_access_key=aws_secret_access_key,\n",
    ")\n",
    "\n",
    "# This will return $10,000.00 in the MTurk Developer Sandbox\n",
    "print(client.get_account_balance()['AvailableBalance'])"
   ]
  },
  {
   "cell_type": "code",
   "execution_count": null,
   "metadata": {},
   "outputs": [],
   "source": []
  },
  {
   "cell_type": "markdown",
   "metadata": {},
   "source": [
    "# Approve Assignments"
   ]
  },
  {
   "cell_type": "code",
   "execution_count": 9,
   "metadata": {},
   "outputs": [
    {
     "name": "stdout",
     "output_type": "stream",
     "text": [
      "3IFS6Q0HJRRPT61R5125GFHEQY3SI6\n",
      "3OWEPKL08IKVO9SQEEHMQWHZPJKN7U\n"
     ]
    }
   ],
   "source": [
    "#Get HIT Id from the create HIT notebook\n",
    "hitId = '3NC6WP7WKPSYEY4BOLBJQBXSHT0WWK'\n",
    "\n",
    "assignmentsDF = pd.read_csv('data/{}.csv'.format(hitId))\n",
    "for index, assignment in assignmentsDF.iterrows():\n",
    "    print(assignment['AssignmentId'])\n",
    "    client.approve_assignment(AssignmentId=assignment['AssignmentId'], RequesterFeedback=\"Thank you.\")"
   ]
  },
  {
   "cell_type": "code",
   "execution_count": null,
   "metadata": {},
   "outputs": [],
   "source": []
  },
  {
   "cell_type": "markdown",
   "metadata": {},
   "source": [
    "# Send Bonus"
   ]
  },
  {
   "cell_type": "code",
   "execution_count": 6,
   "metadata": {},
   "outputs": [
    {
     "data": {
      "text/plain": [
       "{'ResponseMetadata': {'RequestId': 'ed80088c-5b54-4b41-a8a1-6c243dd91ef7',\n",
       "  'HTTPStatusCode': 200,\n",
       "  'HTTPHeaders': {'x-amzn-requestid': 'ed80088c-5b54-4b41-a8a1-6c243dd91ef7',\n",
       "   'content-type': 'application/x-amz-json-1.1',\n",
       "   'content-length': '2',\n",
       "   'date': 'Wed, 16 Mar 2022 02:16:34 GMT'},\n",
       "  'RetryAttempts': 0}}"
      ]
     },
     "execution_count": 6,
     "metadata": {},
     "output_type": "execute_result"
    }
   ],
   "source": [
    "bonusAmount = '0.05'\n",
    "reasons='Thank you for your feedback (via the Post Survey in the HIT). It will help improve our future tasks.'\n",
    "\n",
    "# \"WorkerId\": String,\n",
    "# \"AssignmentId\": String,\n",
    "# \"BonusAmount\": String,\n",
    "# \"Reason\": String,\n",
    "# \"UniqueRequestToken\": String\n",
    "\n",
    "for index, assignment in assignmentsDF.iterrows():\n",
    "    print(assignment['WorkerId'], assignment['AssignmentId'])\n",
    "    client.send_bonus(WorkerId=assignment['WorkerId'], \n",
    "                      AssignmentId=assignment['AssignmentId'], \n",
    "                      BonusAmount=bonusAmount, \n",
    "                      Reason=reasons, \n",
    "                      UniqueRequestToken='SendingBonus'+assignment['AssignmentId'])"
   ]
  },
  {
   "cell_type": "code",
   "execution_count": null,
   "metadata": {},
   "outputs": [],
   "source": []
  },
  {
   "cell_type": "code",
   "execution_count": null,
   "metadata": {},
   "outputs": [],
   "source": []
  },
  {
   "cell_type": "markdown",
   "metadata": {},
   "source": [
    "# Reject Assignments"
   ]
  },
  {
   "cell_type": "code",
   "execution_count": null,
   "metadata": {},
   "outputs": [],
   "source": [
    "# assignmentsDF = pd.read_csv('data/{}.csv'.format(hitId))\n",
    "# for index, assignment in assignmentsDF.iterrows():\n",
    "#     print(assignment['AssignmentId'])\n",
    "#     client.reject_assignment(AssignmentId=assignment['AssignmentId'], RequesterFeedback=\"Your responses consisted of all zeros.\")"
   ]
  }
 ],
 "metadata": {
  "interpreter": {
   "hash": "b560abb4cfbc34f9cb6b5da792bc79b4def0febb8496de1f18c8d7b3166e69d0"
  },
  "kernelspec": {
   "display_name": "Python 3",
   "language": "python",
   "name": "python3"
  },
  "language_info": {
   "codemirror_mode": {
    "name": "ipython",
    "version": 3
   },
   "file_extension": ".py",
   "mimetype": "text/x-python",
   "name": "python",
   "nbconvert_exporter": "python",
   "pygments_lexer": "ipython3",
   "version": "3.8.8"
  }
 },
 "nbformat": 4,
 "nbformat_minor": 2
}
